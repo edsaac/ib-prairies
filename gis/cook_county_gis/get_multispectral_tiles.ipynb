{
 "cells": [
  {
   "cell_type": "code",
   "execution_count": null,
   "metadata": {},
   "outputs": [],
   "source": [
    "import requests\n",
    "from itertools import batched\n",
    "from pathlib import Path\n",
    "import shutil\n",
    "\n",
    "COOK_COUNTY_GIS_URL = (\n",
    "    \"https://gis.cookcountyil.gov/imagery/rest/services/CookOrtho2023/ImageServer\"\n",
    ")"
   ]
  },
  {
   "cell_type": "markdown",
   "metadata": {},
   "source": [
    "# Cook County Multispectral Imagery\n",
    "\n",
    "Tiles index:\n",
    "> https://hub-cookcountyil.opendata.arcgis.com/datasets/cookcountyil::aerial-imagery-reference-tiles/explore\n",
    "\n",
    "Query Service:\n",
    "> https://gis.cookcountyil.gov/imagery/rest/services/CookOrtho2023/ImageServer/query\n",
    "\n",
    "Download:\n",
    "> https://gis.cookcountyil.gov/imagery/rest/services/CookOrtho2023/ImageServer/download"
   ]
  },
  {
   "cell_type": "code",
   "execution_count": null,
   "metadata": {},
   "outputs": [],
   "source": [
    "def get_tile_id(tile_number: list[str]):\n",
    "    # SQL Query\n",
    "    str_tiles = \",\".join([f\"'{s}'\" for s in tile_number])\n",
    "    sql_query = f\"Name IN ({str_tiles})\"\n",
    "    \n",
    "    # REST API endpoint\n",
    "    url = f\"{COOK_COUNTY_GIS_URL}/query\"\n",
    "\n",
    "    # Adding parameters to query\n",
    "    payload = dict(\n",
    "        where=sql_query,\n",
    "        returnIdsOnly=True,\n",
    "        returnGeometry=False,\n",
    "        f=\"pjson\",\n",
    "    )\n",
    "\n",
    "    # A get request to the API\n",
    "    response = requests.get(url, params=payload)\n",
    "    response.raise_for_status()\n",
    "    return response.json()"
   ]
  },
  {
   "cell_type": "code",
   "execution_count": null,
   "metadata": {},
   "outputs": [],
   "source": [
    "get_tile_id(('16507850', '15507900',))"
   ]
  },
  {
   "cell_type": "code",
   "execution_count": null,
   "metadata": {},
   "outputs": [],
   "source": [
    "def get_tif_download_urls(tile_id):\n",
    "\n",
    "    # REST API endpoint\n",
    "    url = url = f\"{COOK_COUNTY_GIS_URL}/download\"\n",
    "\n",
    "    # Adding parameters to query\n",
    "    payload = dict(rasterIds=tile_id, format=\"tif\", f=\"pjson\")\n",
    "\n",
    "    # A get request to the API\n",
    "    response = requests.get(url, params=payload)\n",
    "    response.raise_for_status()\n",
    "    return response.json()"
   ]
  },
  {
   "cell_type": "code",
   "execution_count": null,
   "metadata": {},
   "outputs": [],
   "source": [
    "get_tif_download_urls(4212)"
   ]
  },
  {
   "cell_type": "code",
   "execution_count": null,
   "metadata": {},
   "outputs": [],
   "source": [
    "WORKING_DIR = Path(\"Edwin\")\n",
    "PATH_LIST_TILES = WORKING_DIR/\"tile_list\"\n",
    "FINAL_DEST = Path(\"/media/edwin/LaCie/Cook County Multispectral/2023\")"
   ]
  },
  {
   "cell_type": "code",
   "execution_count": null,
   "metadata": {},
   "outputs": [],
   "source": [
    "path_list_ids = WORKING_DIR/\"tile_ids\"\n",
    "(download_dir := WORKING_DIR/\"download\").mkdir(exist_ok=True)"
   ]
  },
  {
   "cell_type": "code",
   "execution_count": null,
   "metadata": {},
   "outputs": [],
   "source": [
    "with open(PATH_LIST_TILES) as f:\n",
    "    tile_list = list(set([x.strip() for x in f.readlines()]))"
   ]
  },
  {
   "cell_type": "code",
   "execution_count": null,
   "metadata": {},
   "outputs": [],
   "source": [
    "tile_ids = []\n",
    "\n",
    "for tile_chunck in batched(tile_list, 20):\n",
    "    response = get_tile_id(tile_chunck)\n",
    "    tile_ids += response['objectIds']"
   ]
  },
  {
   "cell_type": "code",
   "execution_count": null,
   "metadata": {},
   "outputs": [],
   "source": [
    "# Write to a file the list of tiles ids\n",
    "with open(path_list_ids, \"w\") as f:\n",
    "    for tile_id in tile_ids:\n",
    "        f.write(str(tile_id) + \"\\n\")"
   ]
  },
  {
   "cell_type": "code",
   "execution_count": null,
   "metadata": {},
   "outputs": [],
   "source": [
    "for tile_id in tile_ids:\n",
    "    for raster_json in get_tif_download_urls(tile_id)['rasterFiles']:\n",
    "        raster_url = raster_json['id']\n",
    "        raster_file = download_dir/(raster_url.rpartition('\\\\')[-1])\n",
    "        raster_id = raster_json['rasterIds'][0]\n",
    "        \n",
    "        # /file?id=.%5C2023%5CRGBNIR%5C14507850.tif&amp;rasterId=3444\n",
    "\n",
    "        if (FINAL_DEST/raster_file.name).exists():\n",
    "            print(f\"Skipping {raster_file.name}, already downloaded\")\n",
    "    \n",
    "        else:\n",
    "            print(f\"Downloading {raster_file}\")\n",
    "\n",
    "            payload = dict(\n",
    "                id=raster_url,\n",
    "                rasterId=raster_id,\n",
    "            )\n",
    "\n",
    "            r = requests.get(f\"{COOK_COUNTY_GIS_URL}/file?\", params=payload, stream=True)\n",
    "            r.raise_for_status()\n",
    "        \n",
    "            with open(raster_file, 'wb') as f:\n",
    "                f.write(r.content)\n",
    "\n",
    "    \n",
    "            shutil.move(raster_file, FINAL_DEST)\n",
    "            print(f\"Downloaded {raster_file.name}\")"
   ]
  }
 ],
 "metadata": {
  "kernelspec": {
   "display_name": "wenv",
   "language": "python",
   "name": "python3"
  },
  "language_info": {
   "codemirror_mode": {
    "name": "ipython",
    "version": 3
   },
   "file_extension": ".py",
   "mimetype": "text/x-python",
   "name": "python",
   "nbconvert_exporter": "python",
   "pygments_lexer": "ipython3",
   "version": "3.12.4"
  }
 },
 "nbformat": 4,
 "nbformat_minor": 2
}
