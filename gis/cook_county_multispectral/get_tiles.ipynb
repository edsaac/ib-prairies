{
 "cells": [
  {
   "cell_type": "code",
   "execution_count": 10,
   "metadata": {},
   "outputs": [],
   "source": [
    "from bs4 import BeautifulSoup\n",
    "import requests\n",
    "from io import BytesIO\n",
    "import shutil\n",
    "from pathlib import Path"
   ]
  },
  {
   "cell_type": "markdown",
   "metadata": {},
   "source": [
    "# Cook County Multispectral Imagery\n",
    "\n",
    "Tiles index:\n",
    "https://hub-cookcountyil.opendata.arcgis.com/datasets/cookcountyil::aerial-imagery-reference-tiles/explore\n",
    "\n",
    "Query Service:\n",
    "https://gis.cookcountyil.gov/imagery/rest/services/CookOrtho2023/ImageServer/query\n",
    "\n",
    "Download:\n",
    "https://gis.cookcountyil.gov/imagery/rest/services/CookOrtho2023/ImageServer/download"
   ]
  },
  {
   "cell_type": "code",
   "execution_count": 11,
   "metadata": {},
   "outputs": [],
   "source": [
    "ROOT_LINK = \"https://gis.cookcountyil.gov/imagery/rest/services/CookOrtho2023/ImageServer/\""
   ]
  },
  {
   "cell_type": "code",
   "execution_count": 12,
   "metadata": {},
   "outputs": [],
   "source": [
    "with open(\"list_of_links.html\", \"r\") as f:\n",
    "    soup = BeautifulSoup(f.read(), 'html.parser')"
   ]
  },
  {
   "cell_type": "code",
   "execution_count": 21,
   "metadata": {},
   "outputs": [],
   "source": [
    "for i, link in enumerate(soup.findAll('a')): \n",
    "    link = link.get('href').partition('/')[2]\n",
    "    \n",
    "    filename = link.rpartition('&')[0].rpartition('%5C')[2]\n",
    "    raster_id = link.rpartition('&rasterId=')[2]\n",
    "    filepath = Path(f\"./get_tiles/{filename}\")\n",
    "    dst = Path(\"/mnt/d/Cook County Multispectral\")\n",
    "\n",
    "    if (dst/filename).exists():\n",
    "        pass\n",
    "        # print(f\"Skipping {filename}, already downloaded\")\n",
    "    \n",
    "    else:\n",
    "        r = requests.get(f\"{ROOT_LINK}{link}\", stream=True)\n",
    "        with open(filepath, 'wb') as f:\n",
    "            f.write(r.content)\n",
    "    \n",
    "        shutil.move(filepath, dst)\n",
    "        print(f\"Downloaded {filename}\")\n"
   ]
  },
  {
   "cell_type": "code",
   "execution_count": 10,
   "metadata": {},
   "outputs": [],
   "source": []
  },
  {
   "cell_type": "code",
   "execution_count": 1,
   "metadata": {},
   "outputs": [],
   "source": []
  },
  {
   "cell_type": "code",
   "execution_count": 4,
   "metadata": {},
   "outputs": [],
   "source": [
    "\n"
   ]
  },
  {
   "cell_type": "code",
   "execution_count": null,
   "metadata": {},
   "outputs": [],
   "source": []
  }
 ],
 "metadata": {
  "kernelspec": {
   "display_name": "wenv",
   "language": "python",
   "name": "python3"
  },
  "language_info": {
   "codemirror_mode": {
    "name": "ipython",
    "version": 3
   },
   "file_extension": ".py",
   "mimetype": "text/x-python",
   "name": "python",
   "nbconvert_exporter": "python",
   "pygments_lexer": "ipython3",
   "version": "3.11.9"
  }
 },
 "nbformat": 4,
 "nbformat_minor": 2
}
