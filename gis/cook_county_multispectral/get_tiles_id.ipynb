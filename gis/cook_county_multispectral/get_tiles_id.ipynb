{
 "cells": [
  {
   "cell_type": "code",
   "execution_count": 1,
   "metadata": {},
   "outputs": [],
   "source": [
    "import requests\n",
    "from itertools import batched\n",
    "from pathlib import Path\n",
    "from gis_county import get_tile_id, get_tif_download_urls"
   ]
  },
  {
   "cell_type": "code",
   "execution_count": 2,
   "metadata": {},
   "outputs": [],
   "source": [
    "WORKING_DIR = Path(\"Test\")\n",
    "PATH_LIST_TILES = WORKING_DIR/\"tile_list\"\n",
    "COOK_COUNTY_GIS_URL = (\n",
    "    \"https://gis.cookcountyil.gov/imagery/rest/services/CookOrtho2023/ImageServer\"\n",
    ")"
   ]
  },
  {
   "cell_type": "code",
   "execution_count": 3,
   "metadata": {},
   "outputs": [],
   "source": [
    "path_list_ids = WORKING_DIR/\"tile_ids\"\n",
    "(download_dir := WORKING_DIR/\"download\").mkdir(exist_ok=True)"
   ]
  },
  {
   "cell_type": "code",
   "execution_count": 4,
   "metadata": {},
   "outputs": [],
   "source": [
    "with open(PATH_LIST_TILES) as f:\n",
    "    tile_list = [f\"'{x.strip()}'\" for x in f.readlines()]"
   ]
  },
  {
   "cell_type": "code",
   "execution_count": 5,
   "metadata": {},
   "outputs": [],
   "source": [
    "tile_ids = []\n",
    "\n",
    "for tile_chunck in batched(tile_list, 20):\n",
    "    response = get_tile_id(tile_chunck)\n",
    "    tile_ids += response['objectIds']"
   ]
  },
  {
   "cell_type": "code",
   "execution_count": 6,
   "metadata": {},
   "outputs": [],
   "source": [
    "# Write to a file the list of tiles ids\n",
    "with open(path_list_ids, \"w\") as f:\n",
    "    for tile_id in tile_ids:\n",
    "        f.write(str(tile_id) + \"\\n\")"
   ]
  },
  {
   "cell_type": "code",
   "execution_count": 15,
   "metadata": {},
   "outputs": [
    {
     "name": "stdout",
     "output_type": "stream",
     "text": [
      ".\\2023\\RGBNIR\\15007750.tif\n",
      "Test/download/15007750.tif\n",
      "3640\n",
      "Downloading Test/download/15007750.tif\n",
      ".\\2023\\RGBNIR\\15007750.tif.ovr\n",
      "Test/download/15007750.tif.ovr\n",
      "3640\n",
      "Downloading Test/download/15007750.tif.ovr\n",
      ".\\2023\\RGBNIR\\15007750.tif.aux.xml\n",
      "Test/download/15007750.tif.aux.xml\n",
      "3640\n",
      "Downloading Test/download/15007750.tif.aux.xml\n",
      ".\\2023\\RGBNIR\\15007750.tif.xml\n",
      "Test/download/15007750.tif.xml\n",
      "3640\n",
      "Downloading Test/download/15007750.tif.xml\n"
     ]
    }
   ],
   "source": [
    "for tile_id in tile_ids:\n",
    "    for raster_json in get_tif_download_urls(tile_id)['rasterFiles']:\n",
    "        raster_url = raster_json['id']\n",
    "        raster_file = download_dir/(raster_url.rpartition('\\\\')[-1])\n",
    "        raster_id = raster_json['rasterIds'][0]\n",
    "        \n",
    "        # /file?id=.%5C2023%5CRGBNIR%5C14507850.tif&amp;rasterId=3444\n",
    "\n",
    "        if raster_file.exists():\n",
    "            pass\n",
    "            print(f\"Skipping {raster_file}, already downloaded\")\n",
    "    \n",
    "        else:\n",
    "            print(f\"Downloading {raster_file}\")\n",
    "\n",
    "            payload = dict(\n",
    "                id=raster_url,\n",
    "                rasterId=raster_id,\n",
    "            )\n",
    "\n",
    "            r = requests.get(f\"{COOK_COUNTY_GIS_URL}/file?\", params=payload, stream=True)\n",
    "            r.raise_for_status()\n",
    "        \n",
    "            with open(raster_file, 'wb') as f:\n",
    "                f.write(r.content)\n",
    "\n",
    "    break\n",
    "        #     # shutil.move(filepath, dst)\n",
    "        #     # print(f\"Downloaded {filename}\")"
   ]
  },
  {
   "cell_type": "code",
   "execution_count": null,
   "metadata": {},
   "outputs": [],
   "source": []
  }
 ],
 "metadata": {
  "kernelspec": {
   "display_name": "wenv",
   "language": "python",
   "name": "python3"
  },
  "language_info": {
   "codemirror_mode": {
    "name": "ipython",
    "version": 3
   },
   "file_extension": ".py",
   "mimetype": "text/x-python",
   "name": "python",
   "nbconvert_exporter": "python",
   "pygments_lexer": "ipython3",
   "version": "3.12.4"
  }
 },
 "nbformat": 4,
 "nbformat_minor": 2
}
